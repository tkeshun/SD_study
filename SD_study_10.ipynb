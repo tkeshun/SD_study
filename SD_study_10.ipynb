{
  "nbformat": 4,
  "nbformat_minor": 0,
  "metadata": {
    "colab": {
      "name": "SD_study_10.ipynb",
      "provenance": [],
      "toc_visible": true,
      "authorship_tag": "ABX9TyNBHn4eycExmH0RfNyf+paI",
      "include_colab_link": true
    },
    "kernelspec": {
      "name": "python3",
      "display_name": "Python 3"
    }
  },
  "cells": [
    {
      "cell_type": "markdown",
      "metadata": {
        "id": "view-in-github",
        "colab_type": "text"
      },
      "source": [
        "<a href=\"https://colab.research.google.com/github/tkeshun/SD_study/blob/master/SD_study_10.ipynb\" target=\"_parent\"><img src=\"https://colab.research.google.com/assets/colab-badge.svg\" alt=\"Open In Colab\"/></a>"
      ]
    },
    {
      "cell_type": "markdown",
      "metadata": {
        "id": "UvW6En9gYUh9",
        "colab_type": "text"
      },
      "source": [
        "#software design10月号の統計学特集の勉強\n",
        "\n",
        "##NUmpy入門\n",
        "数値計算ライブラリ"
      ]
    },
    {
      "cell_type": "code",
      "metadata": {
        "id": "aXhnnpt-YTJY",
        "colab_type": "code",
        "colab": {
          "base_uri": "https://localhost:8080/",
          "height": 386
        },
        "outputId": "195a3cc5-d8f0-463d-b8a0-39150b27d000"
      },
      "source": [
        "import seaborn as sns\n",
        "tips = sns.load_dataset('tips')\n",
        "sns.catplot(\n",
        "    data=tips,x = \"time\",y = \"tip\",kind = \"violin\"\n",
        ")"
      ],
      "execution_count": null,
      "outputs": [
        {
          "output_type": "execute_result",
          "data": {
            "text/plain": [
              "<seaborn.axisgrid.FacetGrid at 0x7f31d77cf160>"
            ]
          },
          "metadata": {
            "tags": []
          },
          "execution_count": 2
        },
        {
          "output_type": "display_data",
          "data": {
            "image/png": "[encoded data removed]",
            "text/plain": [
              "<Figure size 360x360 with 1 Axes>"
            ]
          },
          "metadata": {
            "tags": [],
            "needs_background": "light"
          }
        }
      ]
    },
    {
      "cell_type": "code",
      "metadata": {
        "id": "OpeMtjvefXKa",
        "colab_type": "code",
        "colab": {
          "base_uri": "https://localhost:8080/",
          "height": 52
        },
        "outputId": "d97bda93-d6fa-41fe-8a71-690610c1c003"
      },
      "source": [
        "import numpy as np\n",
        "int_arr = np.array([1,2])\n",
        "print(int_arr.dtype)#データ型確認\n",
        "float_arr = np.array([1,2],dtype=np.float32)\n",
        "print(float_arr.dtype)"
      ],
      "execution_count": null,
      "outputs": [
        {
          "output_type": "stream",
          "text": [
            "int64\n",
            "float32\n"
          ],
          "name": "stdout"
        }
      ]
    },
    {
      "cell_type": "code",
      "metadata": {
        "id": "h14MP7NFfq8e",
        "colab_type": "code",
        "colab": {
          "base_uri": "https://localhost:8080/",
          "height": 52
        },
        "outputId": "4cf80eba-ee86-43b2-c096-2c510e07d021"
      },
      "source": [
        "print(float_arr.astype(np.int))\n",
        "print(float_arr)"
      ],
      "execution_count": null,
      "outputs": [
        {
          "output_type": "stream",
          "text": [
            "[1 2]\n",
            "[1. 2.]\n"
          ],
          "name": "stdout"
        }
      ]
    },
    {
      "cell_type": "markdown",
      "metadata": {
        "id": "WmctohM2gwzK",
        "colab_type": "text"
      },
      "source": [
        "##ndarrayオブジェクトの生成"
      ]
    },
    {
      "cell_type": "code",
      "metadata": {
        "id": "J69155YtgYF7",
        "colab_type": "code",
        "colab": {
          "base_uri": "https://localhost:8080/",
          "height": 158
        },
        "outputId": "14c95e8a-3d0f-4983-cd7e-6528b4b112c6"
      },
      "source": [
        "#指定した範囲の数: 開始位置、終了位置(開区間)、刻み幅\n",
        "print(np.arange(0,5,0.5))\n",
        "print(np.arange(-10,11,2))\n",
        "#zero\n",
        "print(np.zeros([3,4]),\"\\n\")\n",
        "#one\n",
        "print(np.ones([3,4]))"
      ],
      "execution_count": null,
      "outputs": [
        {
          "output_type": "stream",
          "text": [
            "[0.  0.5 1.  1.5 2.  2.5 3.  3.5 4.  4.5]\n",
            "[-10  -8  -6  -4  -2   0   2   4   6   8  10]\n",
            "[[0. 0. 0. 0.]\n",
            " [0. 0. 0. 0.]\n",
            " [0. 0. 0. 0.]]\n",
            "[[1. 1. 1. 1.]\n",
            " [1. 1. 1. 1.]\n",
            " [1. 1. 1. 1.]]\n"
          ],
          "name": "stdout"
        }
      ]
    },
    {
      "cell_type": "code",
      "metadata": {
        "id": "p-YwsA6ahaKH",
        "colab_type": "code",
        "colab": {
          "base_uri": "https://localhost:8080/",
          "height": 70
        },
        "outputId": "6de1efef-7e75-46db-c1c3-3d7bffa0fc01"
      },
      "source": [
        "#random\n",
        "np.random.seed(1)\n",
        "np.random.rand(3,3)"
      ],
      "execution_count": null,
      "outputs": [
        {
          "output_type": "execute_result",
          "data": {
            "text/plain": [
              "array([[4.17022005e-01, 7.20324493e-01, 1.14374817e-04],\n",
              "       [3.02332573e-01, 1.46755891e-01, 9.23385948e-02],\n",
              "       [1.86260211e-01, 3.45560727e-01, 3.96767474e-01]])"
            ]
          },
          "metadata": {
            "tags": []
          },
          "execution_count": 13
        }
      ]
    },
    {
      "cell_type": "code",
      "metadata": {
        "id": "AUBeDP1lji_V",
        "colab_type": "code",
        "colab": {
          "base_uri": "https://localhost:8080/",
          "height": 105
        },
        "outputId": "a2a18c05-42fb-40b6-c467-ca8710488343"
      },
      "source": [
        "#reshape\n",
        "np.arange(0,10).reshape([5,2])"
      ],
      "execution_count": null,
      "outputs": [
        {
          "output_type": "execute_result",
          "data": {
            "text/plain": [
              "array([[0, 1],\n",
              "       [2, 3],\n",
              "       [4, 5],\n",
              "       [6, 7],\n",
              "       [8, 9]])"
            ]
          },
          "metadata": {
            "tags": []
          },
          "execution_count": 14
        }
      ]
    },
    {
      "cell_type": "markdown",
      "metadata": {
        "id": "_lMbn3f0knJN",
        "colab_type": "text"
      },
      "source": [
        "#pandas入門\n",
        "##主要なデータ構造\n",
        "###Series　１次元\n",
        "同一のデータ型をもつ１次元のデータ\n",
        "###DataFrame 2次元\n",
        "行と列にラベルをもつ２次元のデータ\n"
      ]
    },
    {
      "cell_type": "code",
      "metadata": {
        "id": "ltyaRN8-j-M2",
        "colab_type": "code",
        "colab": {
          "base_uri": "https://localhost:8080/",
          "height": 105
        },
        "outputId": "451473a7-ce3e-4276-8484-359977d01b5e"
      },
      "source": [
        "import pandas as pd\n",
        "#第一引数：データ、第二引数：ラベル\n",
        "ser = pd.Series([1,2,3],index= [\"a\",\"b\",\"c\"])\n",
        "print(ser)\n",
        "print(ser.values)"
      ],
      "execution_count": null,
      "outputs": [
        {
          "output_type": "stream",
          "text": [
            "a    1\n",
            "b    2\n",
            "c    3\n",
            "dtype: int64\n",
            "[1 2 3]\n"
          ],
          "name": "stdout"
        }
      ]
    },
    {
      "cell_type": "code",
      "metadata": {
        "id": "NjOeOmsbltGl",
        "colab_type": "code",
        "colab": {}
      },
      "source": [
        "diff_type_df = pd.DataFrame([[0.1,1],[0.2,2]],index=[\"r1\",\"r2\"],columns=[\"c1\",\"c2\"])"
      ],
      "execution_count": null,
      "outputs": []
    },
    {
      "cell_type": "code",
      "metadata": {
        "id": "vyIcIU70mLR_",
        "colab_type": "code",
        "colab": {
          "base_uri": "https://localhost:8080/",
          "height": 70
        },
        "outputId": "03bcde00-260f-4924-8652-b00535bc05e9"
      },
      "source": [
        "print(diff_type_df)"
      ],
      "execution_count": null,
      "outputs": [
        {
          "output_type": "stream",
          "text": [
            "     c1  c2\n",
            "r1  0.1   1\n",
            "r2  0.2   2\n"
          ],
          "name": "stdout"
        }
      ]
    },
    {
      "cell_type": "code",
      "metadata": {
        "id": "J4T7gWOLmSR8",
        "colab_type": "code",
        "colab": {
          "base_uri": "https://localhost:8080/",
          "height": 70
        },
        "outputId": "c5986270-c1d0-46d6-9f75-0d1375a57a2f"
      },
      "source": [
        "print(diff_type_df.loc[\"r1\",\"c1\"])#ラベルアクセス 行(index)名、列(column)名\n",
        "print(\"-----\")\n",
        "print(diff_type_df.iloc[0,0])#位置アクセス"
      ],
      "execution_count": null,
      "outputs": [
        {
          "output_type": "stream",
          "text": [
            "0.1\n",
            "-----\n",
            "0.1\n"
          ],
          "name": "stdout"
        }
      ]
    },
    {
      "cell_type": "code",
      "metadata": {
        "id": "youStwPRmnpi",
        "colab_type": "code",
        "colab": {
          "base_uri": "https://localhost:8080/",
          "height": 194
        },
        "outputId": "11aab492-d586-45b1-d594-cc642f39cfe9"
      },
      "source": [
        "#関数の適応\n",
        "nums = np.arange(0,4).reshape([2,2])\n",
        "pd_nums = pd.DataFrame(nums,index=[\"r1\",\"r2\"],columns=[\"c1\",\"c2\"])\n",
        "def my_mul2(x):\n",
        "  return x*2\n",
        "print(pd_nums)\n",
        "print(\"------\")\n",
        "print(my_mul2(pd_nums))\n",
        "print(pd_nums.apply(my_mul2))"
      ],
      "execution_count": null,
      "outputs": [
        {
          "output_type": "stream",
          "text": [
            "    c1  c2\n",
            "r1   0   1\n",
            "r2   2   3\n",
            "------\n",
            "    c1  c2\n",
            "r1   0   2\n",
            "r2   4   6\n",
            "    c1  c2\n",
            "r1   0   2\n",
            "r2   4   6\n"
          ],
          "name": "stdout"
        }
      ]
    },
    {
      "cell_type": "markdown",
      "metadata": {
        "id": "Cg-A6K0RpMqK",
        "colab_type": "text"
      },
      "source": [
        "#基本統計量\n"
      ]
    },
    {
      "cell_type": "code",
      "metadata": {
        "id": "PDeT6CUSo3uC",
        "colab_type": "code",
        "colab": {}
      },
      "source": [
        "np.random.seed(1)\n",
        "random_ser = pd.Series(np.random.rand(100))#100個要素作ってSeries型に格納\n",
        "random_df = pd.DataFrame(\n",
        "    np.random.rand(100,4),\n",
        "    columns=[\"A\",\"B\",\"C\",\"D\"],\n",
        ")"
      ],
      "execution_count": null,
      "outputs": []
    },
    {
      "cell_type": "code",
      "metadata": {
        "id": "3i3RGmOypsFc",
        "colab_type": "code",
        "colab": {
          "base_uri": "https://localhost:8080/",
          "height": 265
        },
        "outputId": "b86a66a0-0776-467e-e83b-ca4d778e96ba"
      },
      "source": [
        "print(random_df)"
      ],
      "execution_count": null,
      "outputs": [
        {
          "output_type": "stream",
          "text": [
            "           A         B         C         D\n",
            "0   0.326645  0.527058  0.885942  0.357270\n",
            "1   0.908535  0.623360  0.015821  0.929437\n",
            "2   0.690897  0.997323  0.172341  0.137136\n",
            "3   0.932595  0.696818  0.066000  0.755463\n",
            "4   0.753876  0.923025  0.711525  0.124271\n",
            "..       ...       ...       ...       ...\n",
            "95  0.325990  0.859489  0.558517  0.690228\n",
            "96  0.452853  0.628309  0.290097  0.009349\n",
            "97  0.576756  0.311444  0.517268  0.916406\n",
            "98  0.426475  0.247396  0.371294  0.931861\n",
            "99  0.936868  0.844330  0.920207  0.227900\n",
            "\n",
            "[100 rows x 4 columns]\n"
          ],
          "name": "stdout"
        }
      ]
    },
    {
      "cell_type": "code",
      "metadata": {
        "id": "xVEJ7qQtqAZ6",
        "colab_type": "code",
        "colab": {
          "base_uri": "https://localhost:8080/",
          "height": 176
        },
        "outputId": "3156f243-d2fa-455e-ada4-7134e20a1b0f"
      },
      "source": [
        "#基本統計量を算出\n",
        "random_ser.describe()"
      ],
      "execution_count": null,
      "outputs": [
        {
          "output_type": "execute_result",
          "data": {
            "text/plain": [
              "count    100.000000\n",
              "mean       0.485878\n",
              "std        0.295885\n",
              "min        0.000114\n",
              "25%        0.209834\n",
              "50%        0.470743\n",
              "75%        0.721743\n",
              "max        0.988861\n",
              "dtype: float64"
            ]
          },
          "metadata": {
            "tags": []
          },
          "execution_count": 45
        }
      ]
    },
    {
      "cell_type": "markdown",
      "metadata": {
        "id": "u17e5IMGrbK3",
        "colab_type": "text"
      },
      "source": [
        "#pythonによる可視化\n",
        "\n",
        "##matplotlib\n",
        "データ可視化\n"
      ]
    },
    {
      "cell_type": "code",
      "metadata": {
        "id": "SwVDUC6xqTmh",
        "colab_type": "code",
        "colab": {
          "base_uri": "https://localhost:8080/",
          "height": 268
        },
        "outputId": "922eca2e-c59c-45cb-ae03-7eb88606225b"
      },
      "source": [
        "import matplotlib.pyplot as plt\n",
        "fig ,ax = plt.subplots()"
      ],
      "execution_count": null,
      "outputs": [
        {
          "output_type": "display_data",
          "data": {
            "image/png": "[encoded data removed]",
            "text/plain": [
              "<Figure size 432x288 with 1 Axes>"
            ]
          },
          "metadata": {
            "tags": [],
            "needs_background": "light"
          }
        }
      ]
    },
    {
      "cell_type": "code",
      "metadata": {
        "id": "r_hhLmJPr0HO",
        "colab_type": "code",
        "colab": {
          "base_uri": "https://localhost:8080/",
          "height": 251
        },
        "outputId": "bc75b0b9-5e32-49e3-ce1d-77a6813134cc"
      },
      "source": [
        "fig,ax = plt.subplots(nrows=1,ncols=2,figsize=(6,3))\n",
        "fig.suptitle(\"figure_name\")\n",
        "ax[0].set_title(\"axes0\")\n",
        "ax[1].set_title(\"axes1\")"
      ],
      "execution_count": null,
      "outputs": [
        {
          "output_type": "execute_result",
          "data": {
            "text/plain": [
              "Text(0.5, 1.0, 'axes1')"
            ]
          },
          "metadata": {
            "tags": []
          },
          "execution_count": 6
        },
        {
          "output_type": "display_data",
          "data": {
            "image/png": "[encoded data removed]",
            "text/plain": [
              "<Figure size 432x216 with 2 Axes>"
            ]
          },
          "metadata": {
            "tags": [],
            "needs_background": "light"
          }
        }
      ]
    },
    {
      "cell_type": "code",
      "metadata": {
        "id": "V3R1Fk22sT5d",
        "colab_type": "code",
        "colab": {
          "base_uri": "https://localhost:8080/",
          "height": 371
        },
        "outputId": "216d9894-ab36-497d-8490-930175fc848e"
      },
      "source": [
        "import numpy as np\n",
        "np.random.seed(1)\n",
        "norm_arr = np.random.randn(10000)\n",
        "fig,ax = plt.subplots()\n",
        "ax.hist(norm_arr)#様々なグラフメソッドがある"
      ],
      "execution_count": null,
      "outputs": [
        {
          "output_type": "execute_result",
          "data": {
            "text/plain": [
              "(array([  14.,  151.,  699., 1932., 2909., 2594., 1248.,  388.,   55.,\n",
              "          10.]),\n",
              " array([-3.6564401 , -2.88811118, -2.11978227, -1.35145336, -0.58312444,\n",
              "         0.18520447,  0.95353339,  1.7218623 ,  2.49019122,  3.25852013,\n",
              "         4.02684904]),\n",
              " <a list of 10 Patch objects>)"
            ]
          },
          "metadata": {
            "tags": []
          },
          "execution_count": 3
        },
        {
          "output_type": "display_data",
          "data": {
            "image/png": "[encoded data removed]",
            "text/plain": [
              "<Figure size 432x288 with 1 Axes>"
            ]
          },
          "metadata": {
            "tags": [],
            "needs_background": "light"
          }
        }
      ]
    },
    {
      "cell_type": "code",
      "metadata": {
        "id": "kSxMIfZMsnbq",
        "colab_type": "code",
        "colab": {
          "base_uri": "https://localhost:8080/",
          "height": 1000
        },
        "outputId": "6b521fdf-0941-4b4e-ebe7-7e90ad35c5d0"
      },
      "source": [
        "#描画領域にグラフを重ねて描画する\n",
        "\n",
        "from scipy.stats import norm\n",
        "x = np.linspace(-4,4,100)\n",
        "y = norm.pdf(\n",
        "    x,norm_arr.mean(),norm_arr.std()\n",
        ")#確率密度関数を利用した標準正規分布の近似値の計算\n",
        "fig,ax = plt.subplots(ncols=2)\n",
        "#複数回実行\n",
        "ax[0].hist(norm_arr,bins=100,density=True)\n",
        "ax[0].plot(x,y)\n",
        "ax[1].hist(norm_arr,bins=100,density=True)\n"
      ],
      "execution_count": null,
      "outputs": [
        {
          "output_type": "execute_result",
          "data": {
            "text/plain": [
              "(array([0.00130153, 0.        , 0.        , 0.        , 0.00130153,\n",
              "        0.00390458, 0.00260305, 0.00390458, 0.00260305, 0.00260305,\n",
              "        0.0052061 , 0.01171373, 0.01691984, 0.01431679, 0.01301526,\n",
              "        0.01431679, 0.01952289, 0.02472899, 0.03123662, 0.04555341,\n",
              "        0.04945799, 0.05206104, 0.05856867, 0.07939308, 0.07679003,\n",
              "        0.07158393, 0.08720224, 0.15227853, 0.13666022, 0.1457709 ,\n",
              "        0.175706  , 0.175706  , 0.19392736, 0.24208382, 0.22646551,\n",
              "        0.21995788, 0.2811296 , 0.30585859, 0.32668301, 0.36703031,\n",
              "        0.30065249, 0.35401505, 0.36182421, 0.3566181 , 0.37483947,\n",
              "        0.41388524, 0.40217151, 0.41258372, 0.42299593, 0.3865532 ,\n",
              "        0.41128219, 0.39826693, 0.351412  , 0.36052268, 0.37223641,\n",
              "        0.33969827, 0.3162708 , 0.29414486, 0.26811434, 0.26420976,\n",
              "        0.23297314, 0.21735483, 0.22776704, 0.17700753, 0.15748464,\n",
              "        0.13666022, 0.12494649, 0.11974038, 0.13405717, 0.09631292,\n",
              "        0.09891597, 0.08329766, 0.06117172, 0.05856867, 0.06247324,\n",
              "        0.04425188, 0.03253815, 0.02472899, 0.02082441, 0.01822136,\n",
              "        0.01691984, 0.00911068, 0.01041221, 0.00650763, 0.01041221,\n",
              "        0.00650763, 0.00260305, 0.00130153, 0.00650763, 0.00130153,\n",
              "        0.00260305, 0.00260305, 0.00130153, 0.00130153, 0.00130153,\n",
              "        0.        , 0.00130153, 0.        , 0.        , 0.00260305]),\n",
              " array([-3.6564401 , -3.57960721, -3.50277432, -3.42594142, -3.34910853,\n",
              "        -3.27227564, -3.19544275, -3.11860986, -3.04177697, -2.96494408,\n",
              "        -2.88811118, -2.81127829, -2.7344454 , -2.65761251, -2.58077962,\n",
              "        -2.50394673, -2.42711384, -2.35028094, -2.27344805, -2.19661516,\n",
              "        -2.11978227, -2.04294938, -1.96611649, -1.8892836 , -1.8124507 ,\n",
              "        -1.73561781, -1.65878492, -1.58195203, -1.50511914, -1.42828625,\n",
              "        -1.35145336, -1.27462046, -1.19778757, -1.12095468, -1.04412179,\n",
              "        -0.9672889 , -0.89045601, -0.81362312, -0.73679022, -0.65995733,\n",
              "        -0.58312444, -0.50629155, -0.42945866, -0.35262577, -0.27579288,\n",
              "        -0.19895998, -0.12212709, -0.0452942 ,  0.03153869,  0.10837158,\n",
              "         0.18520447,  0.26203736,  0.33887026,  0.41570315,  0.49253604,\n",
              "         0.56936893,  0.64620182,  0.72303471,  0.7998676 ,  0.8767005 ,\n",
              "         0.95353339,  1.03036628,  1.10719917,  1.18403206,  1.26086495,\n",
              "         1.33769784,  1.41453074,  1.49136363,  1.56819652,  1.64502941,\n",
              "         1.7218623 ,  1.79869519,  1.87552808,  1.95236098,  2.02919387,\n",
              "         2.10602676,  2.18285965,  2.25969254,  2.33652543,  2.41335832,\n",
              "         2.49019122,  2.56702411,  2.643857  ,  2.72068989,  2.79752278,\n",
              "         2.87435567,  2.95118856,  3.02802146,  3.10485435,  3.18168724,\n",
              "         3.25852013,  3.33535302,  3.41218591,  3.4890188 ,  3.5658517 ,\n",
              "         3.64268459,  3.71951748,  3.79635037,  3.87318326,  3.95001615,\n",
              "         4.02684904]),\n",
              " <a list of 100 Patch objects>)"
            ]
          },
          "metadata": {
            "tags": []
          },
          "execution_count": 13
        },
        {
          "output_type": "display_data",
          "data": {
            "image/png": "[encoded data removed]",
            "text/plain": [
              "<Figure size 432x288 with 2 Axes>"
            ]
          },
          "metadata": {
            "tags": [],
            "needs_background": "light"
          }
        }
      ]
    },
    {
      "cell_type": "markdown",
      "metadata": {
        "id": "KVmeStl5gGIu",
        "colab_type": "text"
      },
      "source": [
        "#Seaborn入門\n",
        "matplotlibをベースにした、可視化ライブラリ"
      ]
    },
    {
      "cell_type": "code",
      "metadata": {
        "id": "C8VEvXs8tZE5",
        "colab_type": "code",
        "colab": {
          "base_uri": "https://localhost:8080/",
          "height": 317
        },
        "outputId": "ec7ef26f-ad1c-4056-8721-7e0e91b8ebe3"
      },
      "source": [
        "#seaborn入門\n",
        "#ヒストグラム、カーネル密度推定：有限の標本点から、全体の分布を推定する\n",
        "import seaborn as sns\n",
        "import numpy as np\n",
        "np.random.seed(1)\n",
        "norm_arr = np.random.randn(10000)\n",
        "sns.distplot(norm_arr)#返り値Axesオブジェクト"
      ],
      "execution_count": null,
      "outputs": [
        {
          "output_type": "stream",
          "text": [
            "/usr/local/lib/python3.6/dist-packages/statsmodels/tools/_testing.py:19: FutureWarning: pandas.util.testing is deprecated. Use the functions in the public API at pandas.testing instead.\n",
            "  import pandas.util.testing as tm\n"
          ],
          "name": "stderr"
        },
        {
          "output_type": "execute_result",
          "data": {
            "text/plain": [
              "<matplotlib.axes._subplots.AxesSubplot at 0x7f6df80d6400>"
            ]
          },
          "metadata": {
            "tags": []
          },
          "execution_count": 14
        },
        {
          "output_type": "display_data",
          "data": {
            "image/png": "[encoded data removed]",
            "text/plain": [
              "<Figure size 432x288 with 1 Axes>"
            ]
          },
          "metadata": {
            "tags": [],
            "needs_background": "light"
          }
        }
      ]
    },
    {
      "cell_type": "markdown",
      "metadata": {
        "id": "TIE5TlzjhJWW",
        "colab_type": "text"
      },
      "source": [
        "#平均から始める記述統計\n",
        "ある集団から入手したデータをもとにその集団がどのような特性をもっているか調べる\n",
        "記述統計：手持ちのデータを正確に表す\n",
        "推測統計：一部のデータから全体を推測する"
      ]
    },
    {
      "cell_type": "code",
      "metadata": {
        "id": "kSV9pOBijwi2",
        "colab_type": "code",
        "colab": {}
      },
      "source": [
        ""
      ],
      "execution_count": null,
      "outputs": []
    },
    {
      "cell_type": "markdown",
      "metadata": {
        "id": "1vt8WcDVjypy",
        "colab_type": "text"
      },
      "source": [
        "#シミュレーションで学ぶ確率分布\n",
        "\n",
        "\n",
        "- ベルヌーイ分布\n",
        "\n",
        "実行のたびに確率的に変動し、成功・失敗のように結果が2値である試行の確率分布\n",
        "\n",
        "- 二項分布\n",
        "ベルヌーイ試行の複数回実施において何回成功するかを表す確率分布\n"
      ]
    },
    {
      "cell_type": "code",
      "metadata": {
        "id": "CRSYCR7_gwd8",
        "colab_type": "code",
        "colab": {
          "base_uri": "https://localhost:8080/",
          "height": 70
        },
        "outputId": "ad425973-7d48-4217-c5e1-fb96ce260f9f"
      },
      "source": [
        "import scipy\n",
        "import numpy as np\n",
        "from collections import Counter\n",
        "np.random.seed(71)\n",
        "n_traial = 10000#実行回数\n",
        "x = scipy.stats.bernoulli.rvs(p=0.5,size=n_traial)#p: 成功確率\n",
        "print(f\"10回のベルヌーイ試行の結果:{x}\")\n",
        "cnt = Counter(x)\n",
        "print(f\"表がでた回数{cnt[1]},裏がでた回数{cnt[0]}\")\n",
        "print(cnt[1]/(cnt[0]+cnt[1]))"
      ],
      "execution_count": null,
      "outputs": [
        {
          "output_type": "stream",
          "text": [
            "10回のベルヌーイ試行の結果:[0 0 1 ... 0 1 0]\n",
            "表がでた回数4991,裏がでた回数5009\n",
            "0.4991\n"
          ],
          "name": "stdout"
        }
      ]
    },
    {
      "cell_type": "markdown",
      "metadata": {
        "id": "lH40KxUkmdOQ",
        "colab_type": "text"
      },
      "source": [
        "#未知データを知るための推測統計\n",
        "ランダムサンプリングで母集団を推測する\n"
      ]
    },
    {
      "cell_type": "code",
      "metadata": {
        "id": "hgV527eZk6ZM",
        "colab_type": "code",
        "colab": {
          "base_uri": "https://localhost:8080/",
          "height": 34
        },
        "outputId": "5819b6d9-8056-43d0-ef5a-ad27c16d4a73"
      },
      "source": [
        "#5000万人ぶんの身長データの母集団を生成する\n",
        "from scipy.stats import norm\n",
        "n_data = 50000000\n",
        "#母平均171.4cm ,母標準偏差 5.8cm\n",
        "height_men = norm.rvs(loc=171.4,scale=5.8,size=n_data)\n",
        "population_mean = np.mean(height_men)\n",
        "population_std = np.std(height_men)\n",
        "print(f\"母平均:{population_mean:.1f} , 母標準偏差:{population_std:.1f}\")\n"
      ],
      "execution_count": null,
      "outputs": [
        {
          "output_type": "stream",
          "text": [
            "母平均:171.4 , 母標準偏差:5.8\n"
          ],
          "name": "stdout"
        }
      ]
    },
    {
      "cell_type": "code",
      "metadata": {
        "id": "b1G8XbYlnWSQ",
        "colab_type": "code",
        "colab": {
          "base_uri": "https://localhost:8080/",
          "height": 105
        },
        "outputId": "cf6657af-6e6d-4569-d76a-3c444ecb09c9"
      },
      "source": [
        "#10個のデータからなる標本を抽出した例\n",
        "#ランダムサンプリングするための添え字をシャッフルしてつくる\n",
        "index = np.arange(n_data)\n",
        "np.random.shuffle(index)\n",
        "print(\"ランダムサンプリング対象の添え字:\")\n",
        "print(index[:10].tolist())\n",
        "height_men_sampled = height_men[index[:10]]\n",
        "print(\"ランダムサンプリングされた身長データ：\")\n",
        "print(height_men_sampled)"
      ],
      "execution_count": null,
      "outputs": [
        {
          "output_type": "stream",
          "text": [
            "ランダムサンプリング対象の添え字:\n",
            "[36651967, 36803963, 5991374, 2924250, 23796280, 41815631, 7113867, 37703203, 37053818, 4801524]\n",
            "ランダムサンプリングされた身長データ：\n",
            "[166.6274736  162.36168416 168.49830518 165.06125979 167.87734029\n",
            " 162.67757667 163.32655367 161.23637241 180.38070709 177.02334359]\n"
          ],
          "name": "stdout"
        }
      ]
    },
    {
      "cell_type": "code",
      "metadata": {
        "id": "DRLoD8Yopfbu",
        "colab_type": "code",
        "colab": {
          "base_uri": "https://localhost:8080/",
          "height": 677
        },
        "outputId": "f22ca902-16df-474f-8084-3176a6abc83b"
      },
      "source": [
        "#sample size 100, do 9 \n",
        "from tqdm import tqdm\n",
        "ncol = 3\n",
        "nrow = 3\n",
        "n_sample = 100\n",
        "index_sampled = []\n",
        "index = np.arange(n_data)\n",
        "#tqdm : 走らせた処理の進捗状況をプログレスバーとして表示するためのパッケージ\n",
        "for i in tqdm(range(ncol*nrow)):\n",
        "  np.random.shuffle(index)\n",
        "  index_sampled.append(index[:n_sample].copy())\n",
        "\n",
        "_, axes = plt.subplots(nrow,ncol,figsize=(nrow*4,ncol*3))\n",
        "for i in range(nrow):\n",
        "  for j in range(ncol):\n",
        "    ax = axes[i,j]\n",
        "    height_men_samplee = height_men[index_sampled[i*ncol+j]]\n",
        "    m = np.mean(height_men_samplee)\n",
        "    sns.distplot(height_men_samplee,hist=True,kde=True,rug=False,color=\"g\",ax=ax)\n",
        "    ax.set_title(f\"平均:{m:.3f}\")\n",
        "    ax.vlines(m,0,ax.get_ylim()[1],\"r\")\n",
        "    ax.set_xlim(150,190)\n",
        "plt.tight_layout()\n",
        "plt.show()\n"
      ],
      "execution_count": null,
      "outputs": [
        {
          "output_type": "stream",
          "text": [
            "100%|██████████| 9/9 [00:21<00:00,  2.40s/it]\n",
            "/usr/local/lib/python3.6/dist-packages/matplotlib/backends/backend_agg.py:214: RuntimeWarning: Glyph 24179 missing from current font.\n",
            "  font.set_text(s, 0.0, flags=flags)\n",
            "/usr/local/lib/python3.6/dist-packages/matplotlib/backends/backend_agg.py:214: RuntimeWarning: Glyph 22343 missing from current font.\n",
            "  font.set_text(s, 0.0, flags=flags)\n",
            "/usr/local/lib/python3.6/dist-packages/matplotlib/backends/backend_agg.py:183: RuntimeWarning: Glyph 24179 missing from current font.\n",
            "  font.set_text(s, 0, flags=flags)\n",
            "/usr/local/lib/python3.6/dist-packages/matplotlib/backends/backend_agg.py:183: RuntimeWarning: Glyph 22343 missing from current font.\n",
            "  font.set_text(s, 0, flags=flags)\n"
          ],
          "name": "stderr"
        },
        {
          "output_type": "display_data",
          "data": {
            "image/png": "[encoded data removed]",
            "text/plain": [
              "<Figure size 864x648 with 9 Axes>"
            ]
          },
          "metadata": {
            "tags": [],
            "needs_background": "light"
          }
        }
      ]
    },
    {
      "cell_type": "code",
      "metadata": {
        "id": "JmAXUYJbrGFq",
        "colab_type": "code",
        "colab": {}
      },
      "source": [
        ""
      ],
      "execution_count": null,
      "outputs": []
    }
  ]
}